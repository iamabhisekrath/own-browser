{
 "cells": [
  {
   "cell_type": "code",
   "execution_count": null,
   "metadata": {},
   "outputs": [],
   "source": [
    "import sys\n",
    "from PyQt5.QtCore import *\n",
    "from PyQt5.QtMidgets import\n",
    "from PyQt5. QtwebEngineWidgets import*\n",
    "class MainWindow (QMainWindow):\n",
    "def __init__(self):\n",
    "super (MainWindow, self)._init__0\n",
    "self.browser = QWebEngineView()\n",
    "self.browser.setUrl (Qurl(\"http://google.com'))\n",
    "self.setCentralwidget (self.browser)\n",
    "self. showMaxinized()\n",
    "#navbar\n",
    "navbar = QToolBar (\n",
    "self.addToolBar (navbar)\n",
    "back_btn = Action(\" Back', self)\n",
    "back btn.triggered.connect (self. browser. back)\n",
    "navbar.addaction (back_btn)\n",
    "forward_btn = QAction(\"Forward', self)\n",
    "forwardbtn.triggered.connect(self.browser .forward)\n",
    "navbar.addAction (forward_btn)\n",
    "reload_btn = QAction( 'Reload', self)\n",
    "\n",
    "reload btn.triggered.connect(self.browser.reload) navbar.addAction (reload_btn)\n",
    "\n",
    "home_btn = QAction(\"Home\", self) home_btn.triggered.connect (self.navigate.home) navbar.addAction (home_btn)\n",
    "\n",
    "self.url_bar = QLineEdit() self.url_bar.returnPressed.connect (self.navigate_to_url) navbar.addWidget (self. url_bar) self.browser.urlChanged.connect.(self.update_url)\n",
    "\n",
    "def navigate.home (self): self.browser.setUrl (Qurl(\"http://Inprogrmmer.com)\n",
    "\n",
    "def navigate_to_url (self):\n",
    "\n",
    "url self.url-bar. text() self.browser.seturl (Qurl(url)) def update_url (self,q): self.url_bar.setText (q.toString())\n",
    "\n",
    "app QApplication (sys.argv)\n",
    "\n",
    "QApplication.setApplicationName( 'Browser by Pythonadvisor') window = MainWindow()\n",
    "\n",
    "app.exec_()\n"
   ]
  }
 ],
 "metadata": {
  "language_info": {
   "name": "python"
  },
  "orig_nbformat": 4
 },
 "nbformat": 4,
 "nbformat_minor": 2
}
